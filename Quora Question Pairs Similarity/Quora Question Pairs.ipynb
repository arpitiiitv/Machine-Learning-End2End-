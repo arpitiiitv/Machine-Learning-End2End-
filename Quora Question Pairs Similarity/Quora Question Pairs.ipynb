{
 "cells": [
  {
   "cell_type": "markdown",
   "metadata": {},
   "source": [
    "<h1 style=\"text-align:center;color:red;\" > Quora Question Pairs Similarity </h1>\n"
   ]
  },
  {
   "cell_type": "markdown",
   "metadata": {},
   "source": [
    "# 1. Problem and Goal\n",
    "## 1.1 What is Quora: \n",
    "Quora is very popular plateform for learners, here we can ask question and get answers of any kind of topics. It is very usefull for knowledge purpose for students, professionals, teachers and industry leaders all keen to share their knowledge.\n",
    "Quora has approximatly <b>300 million monthly active users</b> of all field, Moslty everyone visits quora if they are looking for something on internet. It is one of the best social site for learners.\n",
    "## 1.2  Problem statement\n",
    "We asks questions on quora, two or more people may ask the same questions in different wordings, The meaning of question is same but they had used differnt sentences. For example :   \n",
    "<ul>\n",
    "    <li><b>Q1: Where can I get cheap food in Kanpur?</b></li>\n",
    "  <li><b>Q2 Where are the cheap food sold in Kanpur?</b></li>\n",
    "  <li><b>Q3 How can I get cheap food in kanpur?</b></li>\n",
    "</ul>\n",
    "All the questions have same meaning but they are worded differntly. So our goal is to find duplicate questions and merge their answers so that we can get better results.\n",
    "<ul>\n",
    "  <li>Find and merge the questions which are already asked on quora.</li>\n",
    "  <li>If someone asks any question, we should give them answers if that question is already answered in past.</li>\n",
    "  <li>Aim of this project is to predict if Question1 is duplicate of Question2.</li>\n",
    "</ul>\n",
    "\n",
    "## 1.3 Useful Links for this project \n",
    "Dataset is taken from https://www.kaggle.com/c/quora-question-pairs"
   ]
  },
  {
   "cell_type": "markdown",
   "metadata": {},
   "source": [
    "# 2. Engineering problem\n",
    "## 2.1 Know the dataset\n",
    "dataset is taken from https://www.kaggle.com/c/quora-question-pairs \n",
    "<p> \n",
    " Data will be in a file Train.csv <br>\n",
    " Train.csv contains 5 columns : qid1, qid2, question1, question2, is_duplicate <br>\n",
    " Size of Train.csv - 60MB <br>\n",
    " Number of rows in Train.csv = 404,290\n",
    "</p>\n",
    "\n",
    "## 2.2 Problem specification\n",
    "\n",
    "It is a binary classification task. We have 2 possible output for is_duplicate (Yes/No).\n",
    "<img src=\"confusion_mat.png\" alt=\"Confusion Matrix\" style=\"width:300px;height:300px;\">\n",
    "<h3 style=\"color:red;\" > False Negative Rate </h3>\n",
    "<b>Model predicted negative and it was false.</b><br> Our model predicted two questions are not duplicate but they are duplicate.\n",
    "<h3 style=\"color:red;\" > False Positive Rate </h3><b>Model predicted positive and it was false.</b><br> Our model predicted two questions are duplicate but they are different.<br><br>\n",
    "High False positive rate will affect model badly, if we will merge the answer of  two different questions it we be very bad and  customers will not visit this site again. We have to minimize FPR for this problem. \n",
    "\n",
    "## 2.3 Problem Constraint\n",
    "<ul>\n",
    "  <li>Cost of misclassification is very high.</li>\n",
    "  <li>We will use Log-loss as primary performance metric</li>\n",
    "  <li>Confusion matrix will be secondary performance metric to check FPR.</li>\n",
    "</ul>\n"
   ]
  },
  {
   "cell_type": "markdown",
   "metadata": {},
   "source": [
    "\n",
    "<h1 style=\"text-align:center;color:red;\" > Exploratory Data Analysis </h1>\n"
   ]
  },
  {
   "cell_type": "code",
   "execution_count": 1,
   "metadata": {},
   "outputs": [],
   "source": [
    "import numpy as np\n",
    "import pandas as pd\n",
    "import matplotlib.pyplot as plt\n",
    "import seaborn as sns\n",
    "import warnings\n",
    "warnings.filterwarnings(\"ignore\")\n"
   ]
  },
  {
   "cell_type": "markdown",
   "metadata": {},
   "source": [
    "## 3.1 Loading and Understanding dataset "
   ]
  },
  {
   "cell_type": "code",
   "execution_count": 2,
   "metadata": {},
   "outputs": [
    {
     "name": "stdout",
     "output_type": "stream",
     "text": [
      "There are 404290 Data points in the given training set\n",
      "There are 6 features in the given training set\n"
     ]
    },
    {
     "data": {
      "text/plain": [
       "(404290, 6)"
      ]
     },
     "execution_count": 2,
     "metadata": {},
     "output_type": "execute_result"
    }
   ],
   "source": [
    "# Loading trainging dataset\n",
    "df = pd.read_csv('Train.csv')\n",
    "print(\"There are \"+ str(df.shape[0]) + \" Data points in the given training set\")\n",
    "print(\"There are \"+ str(df.shape[1]) + \" features in the given training set\")\n",
    "df.shape"
   ]
  },
  {
   "cell_type": "code",
   "execution_count": 3,
   "metadata": {},
   "outputs": [
    {
     "data": {
      "text/html": [
       "<div>\n",
       "<style scoped>\n",
       "    .dataframe tbody tr th:only-of-type {\n",
       "        vertical-align: middle;\n",
       "    }\n",
       "\n",
       "    .dataframe tbody tr th {\n",
       "        vertical-align: top;\n",
       "    }\n",
       "\n",
       "    .dataframe thead th {\n",
       "        text-align: right;\n",
       "    }\n",
       "</style>\n",
       "<table border=\"1\" class=\"dataframe\">\n",
       "  <thead>\n",
       "    <tr style=\"text-align: right;\">\n",
       "      <th></th>\n",
       "      <th>id</th>\n",
       "      <th>qid1</th>\n",
       "      <th>qid2</th>\n",
       "      <th>question1</th>\n",
       "      <th>question2</th>\n",
       "      <th>is_duplicate</th>\n",
       "    </tr>\n",
       "  </thead>\n",
       "  <tbody>\n",
       "    <tr>\n",
       "      <td>0</td>\n",
       "      <td>0</td>\n",
       "      <td>1</td>\n",
       "      <td>2</td>\n",
       "      <td>What is the step by step guide to invest in sh...</td>\n",
       "      <td>What is the step by step guide to invest in sh...</td>\n",
       "      <td>0</td>\n",
       "    </tr>\n",
       "    <tr>\n",
       "      <td>1</td>\n",
       "      <td>1</td>\n",
       "      <td>3</td>\n",
       "      <td>4</td>\n",
       "      <td>What is the story of Kohinoor (Koh-i-Noor) Dia...</td>\n",
       "      <td>What would happen if the Indian government sto...</td>\n",
       "      <td>0</td>\n",
       "    </tr>\n",
       "    <tr>\n",
       "      <td>2</td>\n",
       "      <td>2</td>\n",
       "      <td>5</td>\n",
       "      <td>6</td>\n",
       "      <td>How can I increase the speed of my internet co...</td>\n",
       "      <td>How can Internet speed be increased by hacking...</td>\n",
       "      <td>0</td>\n",
       "    </tr>\n",
       "    <tr>\n",
       "      <td>3</td>\n",
       "      <td>3</td>\n",
       "      <td>7</td>\n",
       "      <td>8</td>\n",
       "      <td>Why am I mentally very lonely? How can I solve...</td>\n",
       "      <td>Find the remainder when [math]23^{24}[/math] i...</td>\n",
       "      <td>0</td>\n",
       "    </tr>\n",
       "    <tr>\n",
       "      <td>4</td>\n",
       "      <td>4</td>\n",
       "      <td>9</td>\n",
       "      <td>10</td>\n",
       "      <td>Which one dissolve in water quikly sugar, salt...</td>\n",
       "      <td>Which fish would survive in salt water?</td>\n",
       "      <td>0</td>\n",
       "    </tr>\n",
       "    <tr>\n",
       "      <td>5</td>\n",
       "      <td>5</td>\n",
       "      <td>11</td>\n",
       "      <td>12</td>\n",
       "      <td>Astrology: I am a Capricorn Sun Cap moon and c...</td>\n",
       "      <td>I'm a triple Capricorn (Sun, Moon and ascendan...</td>\n",
       "      <td>1</td>\n",
       "    </tr>\n",
       "    <tr>\n",
       "      <td>6</td>\n",
       "      <td>6</td>\n",
       "      <td>13</td>\n",
       "      <td>14</td>\n",
       "      <td>Should I buy tiago?</td>\n",
       "      <td>What keeps childern active and far from phone ...</td>\n",
       "      <td>0</td>\n",
       "    </tr>\n",
       "    <tr>\n",
       "      <td>7</td>\n",
       "      <td>7</td>\n",
       "      <td>15</td>\n",
       "      <td>16</td>\n",
       "      <td>How can I be a good geologist?</td>\n",
       "      <td>What should I do to be a great geologist?</td>\n",
       "      <td>1</td>\n",
       "    </tr>\n",
       "  </tbody>\n",
       "</table>\n",
       "</div>"
      ],
      "text/plain": [
       "   id  qid1  qid2                                          question1  \\\n",
       "0   0     1     2  What is the step by step guide to invest in sh...   \n",
       "1   1     3     4  What is the story of Kohinoor (Koh-i-Noor) Dia...   \n",
       "2   2     5     6  How can I increase the speed of my internet co...   \n",
       "3   3     7     8  Why am I mentally very lonely? How can I solve...   \n",
       "4   4     9    10  Which one dissolve in water quikly sugar, salt...   \n",
       "5   5    11    12  Astrology: I am a Capricorn Sun Cap moon and c...   \n",
       "6   6    13    14                                Should I buy tiago?   \n",
       "7   7    15    16                     How can I be a good geologist?   \n",
       "\n",
       "                                           question2  is_duplicate  \n",
       "0  What is the step by step guide to invest in sh...             0  \n",
       "1  What would happen if the Indian government sto...             0  \n",
       "2  How can Internet speed be increased by hacking...             0  \n",
       "3  Find the remainder when [math]23^{24}[/math] i...             0  \n",
       "4            Which fish would survive in salt water?             0  \n",
       "5  I'm a triple Capricorn (Sun, Moon and ascendan...             1  \n",
       "6  What keeps childern active and far from phone ...             0  \n",
       "7          What should I do to be a great geologist?             1  "
      ]
     },
     "execution_count": 3,
     "metadata": {},
     "output_type": "execute_result"
    }
   ],
   "source": [
    "df.head(8)"
   ]
  },
  {
   "cell_type": "markdown",
   "metadata": {},
   "source": [
    "Here <b>id</b> is index of dataset(row number) and <b>qid1</b> and <b>qid2</b> is unique Question id of Question1 and Question2, <b>question1</b> and <b>question2</b> are text of given question. <b>is_duplicate</b> represent if questions are duplicate or not."
   ]
  },
  {
   "cell_type": "code",
   "execution_count": 4,
   "metadata": {},
   "outputs": [
    {
     "name": "stdout",
     "output_type": "stream",
     "text": [
      "<class 'pandas.core.frame.DataFrame'>\n",
      "RangeIndex: 404290 entries, 0 to 404289\n",
      "Data columns (total 6 columns):\n",
      "id              404290 non-null int64\n",
      "qid1            404290 non-null int64\n",
      "qid2            404290 non-null int64\n",
      "question1       404289 non-null object\n",
      "question2       404288 non-null object\n",
      "is_duplicate    404290 non-null int64\n",
      "dtypes: int64(4), object(2)\n",
      "memory usage: 18.5+ MB\n"
     ]
    }
   ],
   "source": [
    "df.info()"
   ]
  },
  {
   "cell_type": "markdown",
   "metadata": {},
   "source": [
    "We have 2 NaN values in questions2 and we have 1 NaN Value for question1. We have lots of dataset we can handle missing value by dropping it."
   ]
  },
  {
   "cell_type": "markdown",
   "metadata": {},
   "source": [
    "## 3.2 Handling missing values"
   ]
  },
  {
   "cell_type": "code",
   "execution_count": 5,
   "metadata": {},
   "outputs": [
    {
     "name": "stdout",
     "output_type": "stream",
     "text": [
      "There are 404287 Data points in the updated training set\n",
      "There are 6 features in the updated training set\n"
     ]
    },
    {
     "data": {
      "text/plain": [
       "(404287, 6)"
      ]
     },
     "execution_count": 5,
     "metadata": {},
     "output_type": "execute_result"
    }
   ],
   "source": [
    "# dropping nan will not impact our dataset because we have 404290 points and we are dropping just 3 points.\n",
    "df = df.dropna()\n",
    "print(\"There are \"+ str(df.shape[0]) + \" Data points in the updated training set\")\n",
    "print(\"There are \"+ str(df.shape[1]) + \" features in the updated training set\")\n",
    "df.shape"
   ]
  },
  {
   "cell_type": "markdown",
   "metadata": {},
   "source": [
    "## 3.3 Exploring and Visualizing given dataset"
   ]
  },
  {
   "cell_type": "markdown",
   "metadata": {},
   "source": [
    "### 3.3.1 Checking if dataset is balanced or not"
   ]
  },
  {
   "cell_type": "code",
   "execution_count": 6,
   "metadata": {},
   "outputs": [
    {
     "name": "stdout",
     "output_type": "stream",
     "text": [
      "Similar Question pairs:  149263 and different question pairs :  255024\n",
      "36.92 percentage questions have Duplicate \n"
     ]
    }
   ],
   "source": [
    "# print(df['is_duplicate'].value_counts())\n",
    "x,y = df['is_duplicate'].value_counts()\n",
    "print(\"Similar Question pairs: \",y , \"and different question pairs : \",x)\n",
    "print(round(100*y/(x+y),2),\"percentage questions have Duplicate \")"
   ]
  },
  {
   "cell_type": "markdown",
   "metadata": {},
   "source": [
    "We have 255024 rows which are not duplicate (ie: is_duplicate=0) and rest 149263 points are duplicate."
   ]
  },
  {
   "cell_type": "code",
   "execution_count": 7,
   "metadata": {},
   "outputs": [
    {
     "data": {
      "text/plain": [
       "Text(0, 0.5, 'is_duplicate(Yes or No)')"
      ]
     },
     "execution_count": 7,
     "metadata": {},
     "output_type": "execute_result"
    },
    {
     "data": {
      "image/png": "[encoded data removed]",
      "text/plain": [
       "<Figure size 432x288 with 1 Axes>"
      ]
     },
     "metadata": {
      "needs_background": "light"
     },
     "output_type": "display_data"
    }
   ],
   "source": [
    "df['is_duplicate'].value_counts().plot(kind='barh')\n",
    "plt.title(\"Comparision of duplicate and non-duplicate question\")\n",
    "plt.xlabel(\"Number of questions\")\n",
    "plt.ylabel(\"is_duplicate(Yes or No)\")"
   ]
  },
  {
   "cell_type": "markdown",
   "metadata": {},
   "source": [
    "We can see there are lots of questions which are asked only once ie: no duplicate questions are asked and there are more than 1.5 lac questions in training set which have duplicate questions.<b> It is not \"Balanced dataset\" because one class is domination</b>"
   ]
  },
  {
   "cell_type": "markdown",
   "metadata": {},
   "source": [
    " ### 3.3.2 Number of unique questions\n",
    " "
   ]
  },
  {
   "cell_type": "code",
   "execution_count": 8,
   "metadata": {},
   "outputs": [
    {
     "name": "stdout",
     "output_type": "stream",
     "text": [
      "There are  537929  unique questions in training dataset\n",
      "There are  111778  unique questions that is repeated in training dataset\n",
      "20.78 %  unique questions that is repeated in training dataset\n",
      "one question has occured  157  times\n"
     ]
    }
   ],
   "source": [
    "# merge all the questions in pandas series\n",
    "merged_q1_q2 = pd.Series(df['qid1'].tolist() + df['qid2'].tolist())\n",
    "unique_questions = np.unique(merged_q1_q2)\n",
    "num_unique_qs = len(unique_questions)\n",
    "print(\"There are \",str(num_unique_qs),\" unique questions in training dataset\")\n",
    "# if questions are repeated\n",
    "num_repeated_ques = sum(merged_q1_q2.value_counts()>1)\n",
    "print(\"There are \",str(num_repeated_ques),\" unique questions that is repeated in training dataset\")\n",
    "print(str(round(num_repeated_ques*100/(num_unique_qs),2)),\"%  unique questions that is repeated in training dataset\")\n",
    "print(\"one question has occured \",str(max(merged_q1_q2.value_counts())),' times')"
   ]
  },
  {
   "cell_type": "code",
   "execution_count": 9,
   "metadata": {},
   "outputs": [
    {
     "data": {
      "image/png": "[encoded data removed]",
      "text/plain": [
       "<Figure size 432x288 with 1 Axes>"
      ]
     },
     "metadata": {
      "needs_background": "light"
     },
     "output_type": "display_data"
    }
   ],
   "source": [
    "x = [\"unique Questions\" , \"Repeated Questions\"]\n",
    "y =  [num_unique_qs , num_repeated_ques]\n",
    "plt.title (\" Unique questions and repeated questions  \")\n",
    "sns.barplot(x,y)\n",
    "plt.show()"
   ]
  },
  {
   "cell_type": "markdown",
   "metadata": {},
   "source": [
    "### 3.3.3 Plotting question occurance plot "
   ]
  },
  {
   "cell_type": "code",
   "execution_count": 10,
   "metadata": {},
   "outputs": [
    {
     "data": {
      "image/png": "[encoded data removed]",
      "text/plain": [
       "<Figure size 864x576 with 1 Axes>"
      ]
     },
     "metadata": {
      "needs_background": "light"
     },
     "output_type": "display_data"
    }
   ],
   "source": [
    "plt.figure(figsize=(12,8))\n",
    "plt.hist(merged_q1_q2.value_counts(),bins=200)\n",
    "plt.title('Histogram of question appearance counts')\n",
    "plt.xlabel('Number of times question occurenced')\n",
    "plt.ylabel('Number of questions')\n",
    "plt.show()"
   ]
  },
  {
   "cell_type": "markdown",
   "metadata": {},
   "source": [
    "It is very hard to visualize the occurance relation in given scale, we have to scale down the Number of questions axis, we can use log transform here."
   ]
  },
  {
   "cell_type": "code",
   "execution_count": 11,
   "metadata": {},
   "outputs": [
    {
     "data": {
      "text/plain": [
       "Text(0.5, 0, 'Number of times question occurenced')"
      ]
     },
     "execution_count": 11,
     "metadata": {},
     "output_type": "execute_result"
    },
    {
     "data": {
      "image/png": "[encoded data removed]",
      "text/plain": [
       "<Figure size 864x576 with 1 Axes>"
      ]
     },
     "metadata": {
      "needs_background": "light"
     },
     "output_type": "display_data"
    }
   ],
   "source": [
    "plt.figure(figsize=(12,8))\n",
    "plt.hist(merged_q1_q2.value_counts(),bins=160,color=['green'])\n",
    "plt.yscale('log')\n",
    "plt.title('Log-Histogram of question appearance counts')\n",
    "plt.xlabel('Number of times question occurenced')"
   ]
  },
  {
   "cell_type": "markdown",
   "metadata": {},
   "source": [
    "## Observation \n",
    "<ul>\n",
    "  <li>One question has occuraced 157 time(extream right point in graph)</li>\n",
    "  <li>Maximum question has occured once in given dataset.</li>\n",
    "  <li>few questions have occured more than 60 times.</li>\n",
    "</ul>"
   ]
  },
  {
   "cell_type": "markdown",
   "metadata": {},
   "source": [
    "### 3.3.4 Analysis of word cloud of questions pair"
   ]
  },
  {
   "cell_type": "code",
   "execution_count": 12,
   "metadata": {},
   "outputs": [
    {
     "name": "stdout",
     "output_type": "stream",
     "text": [
      "word cloud analysis\n"
     ]
    }
   ],
   "source": [
    "print('word cloud analysis' )"
   ]
  },
  {
   "cell_type": "markdown",
   "metadata": {},
   "source": [
    "\n",
    "<h1 style=\"text-align:center;color:red;\" > Feature Engineering </h1>\n"
   ]
  },
  {
   "cell_type": "code",
   "execution_count": null,
   "metadata": {},
   "outputs": [],
   "source": []
  },
  {
   "cell_type": "code",
   "execution_count": null,
   "metadata": {},
   "outputs": [],
   "source": []
  }
 ],
 "metadata": {
  "kernelspec": {
   "display_name": "Python 3",
   "language": "python",
   "name": "python3"
  },
  "language_info": {
   "codemirror_mode": {
    "name": "ipython",
    "version": 3
   },
   "file_extension": ".py",
   "mimetype": "text/x-python",
   "name": "python",
   "nbconvert_exporter": "python",
   "pygments_lexer": "ipython3",
   "version": "3.7.4"
  }
 },
 "nbformat": 4,
 "nbformat_minor": 2
}
