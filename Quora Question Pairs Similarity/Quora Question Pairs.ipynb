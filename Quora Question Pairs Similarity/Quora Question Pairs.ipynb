{
 "cells": [
  {
   "cell_type": "markdown",
   "metadata": {},
   "source": [
    "<h1 style=\"text-align:center;color:red;\" > Quora Question Pairs Similarity </h1>\n"
   ]
  },
  {
   "cell_type": "markdown",
   "metadata": {},
   "source": [
    "# 1. Problem and Goal\n",
    "## 1.1 What is Quora: \n",
    "Quora is very popular plateform for learners, here we can ask question and get answers of any kind of topics. It is very usefull for knowledge purpose for students, professionals, teachers and industry leaders all keen to share their knowledge.\n",
    "Quora has approximatly <b>300 million monthly active users</b> of all field, Moslty everyone visits quora if they are looking for something on internet. It is one of the best social site for learners.\n",
    "## 1.2  Problem statement\n",
    "We asks questions on quora, two or more people may ask the same questions in different wordings, The meaning of question is same but they had used differnt sentences. For example :   \n",
    "<ul>\n",
    "    <li><b>Q1: Where can I get cheap food in Kanpur?</b></li>\n",
    "  <li><b>Q2 Where are the cheap food sold in Kanpur?</b></li>\n",
    "  <li><b>Q3 How can I get cheap food in kanpur?</b></li>\n",
    "</ul>\n",
    "All the questions have same meaning but they are worded differntly. So our goal is to find duplicate questions and merge their answers so that we can get better results.\n",
    "<ul>\n",
    "  <li>Find and merge the questions which are already asked on quora.</li>\n",
    "  <li>If someone asks any question, we should give them answers if that question is already answered in past.</li>\n",
    "  <li>Aim of this project is to predict if Question1 is duplicate of Question2.</li>\n",
    "</ul>\n",
    "\n",
    "## 1.3 Useful Links for this project \n",
    "Dataset is taken from https://www.kaggle.com/c/quora-question-pairs"
   ]
  },
  {
   "cell_type": "markdown",
   "metadata": {},
   "source": [
    "# 2. Engineering problem\n",
    "## 2.1 Know the dataset\n",
    "dataset is taken from https://www.kaggle.com/c/quora-question-pairs \n",
    "<p> \n",
    " Data will be in a file Train.csv <br>\n",
    " Train.csv contains 5 columns : qid1, qid2, question1, question2, is_duplicate <br>\n",
    " Size of Train.csv - 60MB <br>\n",
    " Number of rows in Train.csv = 404,290\n",
    "</p>\n",
    "\n",
    "## 2.2 Problem specification\n",
    "\n",
    "It is a binary classification task. We have 2 possible output for is_duplicate (Yes/No).\n",
    "<img src=\"confusion_mat.png\" alt=\"Confusion Matrix\" style=\"width:300px;height:300px;\">\n",
    "<h3 style=\"color:red;\" > False Negative Rate </h3>\n",
    "<b>Model predicted negative and it was false.</b><br> Our model predicted two questions are not duplicate but they are duplicate.\n",
    "<h3 style=\"color:red;\" > False Positive Rate </h3><b>Model predicted positive and it was false.</b><br> Our model predicted two questions are duplicate but they are different.<br><br>\n",
    "High False positive rate will affect model badly, if we will merge the answer of  two different questions it we be very bad and  customers will not visit this site again. We have to minimize FPR for this problem. \n",
    "\n",
    "## 2.3 Problem Constraint\n",
    "<ul>\n",
    "  <li>Cost of misclassification is very high.</li>\n",
    "  <li>We will use Log-loss as primary performance metric</li>\n",
    "  <li>Confusion matrix will be secondary performance metric to check FPR.</li>\n",
    "</ul\n"
   ]
  },
  {
   "cell_type": "markdown",
   "metadata": {},
   "source": [
    "\n",
    "<h1 style=\"text-align:center;color:red;\" > Exploratory Data Analysis </h1>\n"
   ]
  },
  {
   "cell_type": "code",
   "execution_count": null,
   "metadata": {},
   "outputs": [],
   "source": []
  }
 ],
 "metadata": {
  "kernelspec": {
   "display_name": "Python 3",
   "language": "python",
   "name": "python3"
  },
  "language_info": {
   "codemirror_mode": {
    "name": "ipython",
    "version": 3
   },
   "file_extension": ".py",
   "mimetype": "text/x-python",
   "name": "python",
   "nbconvert_exporter": "python",
   "pygments_lexer": "ipython3",
   "version": "3.7.4"
  }
 },
 "nbformat": 4,
 "nbformat_minor": 2
}
